{
 "cells": [
  {
   "cell_type": "code",
   "execution_count": 2,
   "id": "328b7d47",
   "metadata": {},
   "outputs": [],
   "source": [
    "import pandas as pd\n",
    "import numpy as np\n",
    "import matplotlib.pyplot as plt\n",
    "np.random.seed(42)\n",
    "\n",
    "full_data = pd.read_csv('coffee_dataset.csv')\n",
    "sample_data = full_data.sample(200)"
   ]
  },
  {
   "cell_type": "code",
   "execution_count": 10,
   "id": "1006c3f7",
   "metadata": {},
   "outputs": [
    {
     "data": {
      "text/plain": [
       "1.8352657982511147"
      ]
     },
     "execution_count": 10,
     "metadata": {},
     "output_type": "execute_result"
    }
   ],
   "source": [
    "bootsample = sample_data.sample(200, replace=True)\n",
    "mean_coff = bootsample[bootsample['drinks_coffee'] == True]['height'].mean()\n",
    "mean_nocoff = bootsample[bootsample['drinks_coffee'] == False]['height'].mean()\n",
    "mean_coff - mean_nocoff\n"
   ]
  },
  {
   "cell_type": "code",
   "execution_count": 11,
   "id": "3054406e",
   "metadata": {},
   "outputs": [],
   "source": [
    "diff = [] \n",
    "for _ in range(10000):\n",
    "    bootsample = sample_data.sample(200, replace=True)\n",
    "    mean_coff = bootsample[bootsample['drinks_coffee'] == True]['height'].mean()\n",
    "    mean_nocoff = bootsample[bootsample['drinks_coffee'] == False]['height'].mean()\n",
    "    diff.append(mean_coff - mean_nocoff)"
   ]
  },
  {
   "cell_type": "code",
   "execution_count": 12,
   "id": "ba7d26e9",
   "metadata": {},
   "outputs": [
    {
     "data": {
      "text/plain": [
       "(array([  24.,  109.,  546., 1516., 2627., 2825., 1662.,  567.,  106.,\n",
       "          18.]),\n",
       " array([-0.43028277, -0.07929544,  0.2716919 ,  0.62267923,  0.97366656,\n",
       "         1.3246539 ,  1.67564123,  2.02662857,  2.3776159 ,  2.72860323,\n",
       "         3.07959057]),\n",
       " <BarContainer object of 10 artists>)"
      ]
     },
     "execution_count": 12,
     "metadata": {},
     "output_type": "execute_result"
    },
    {
     "data": {
      "image/png": "[encoded data removed]",
      "text/plain": [
       "<Figure size 432x288 with 1 Axes>"
      ]
     },
     "metadata": {
      "needs_background": "light"
     },
     "output_type": "display_data"
    }
   ],
   "source": [
    "plt.hist(diff)"
   ]
  },
  {
   "cell_type": "code",
   "execution_count": 16,
   "id": "09afa65b",
   "metadata": {},
   "outputs": [
    {
     "data": {
      "text/plain": [
       "(0.10258900080919674, 2.5388333707966284)"
      ]
     },
     "execution_count": 16,
     "metadata": {},
     "output_type": "execute_result"
    }
   ],
   "source": [
    "np.percentile(diff, 0.5), np.percentile(diff, 99.5)"
   ]
  },
  {
   "cell_type": "code",
   "execution_count": 19,
   "id": "f4d67138",
   "metadata": {},
   "outputs": [
    {
     "data": {
      "text/plain": [
       "(0.13589915206465278, 2.56345368597777)"
      ]
     },
     "execution_count": 19,
     "metadata": {},
     "output_type": "execute_result"
    }
   ],
   "source": [
    "diffs = []\n",
    "for _ in range(10000):\n",
    "    bootsamp = sample_data.sample(200, replace=True)\n",
    "    coff_mean = bootsamp[bootsamp['drinks_coffee'] == True]['height'].mean()\n",
    "    nocoff_mean = bootsamp[bootsamp['drinks_coffee'] == False]['height'].mean()\n",
    "    diffs.append(coff_mean - nocoff_mean)\n",
    "    \n",
    "np.percentile(diffs, 0.5), np.percentile(diffs, 99.5)"
   ]
  },
  {
   "cell_type": "code",
   "execution_count": 20,
   "id": "17384441",
   "metadata": {},
   "outputs": [
    {
     "data": {
      "text/plain": [
       "(3.384624971838642, 5.104835967037875)"
      ]
     },
     "execution_count": 20,
     "metadata": {},
     "output_type": "execute_result"
    }
   ],
   "source": [
    "diffs_age = []\n",
    "for _ in range(10000):\n",
    "    bootsamp = sample_data.sample(200, replace=True)\n",
    "    under21_mean = bootsamp[bootsamp['age'] == '<21']['height'].mean()\n",
    "    over21_mean = bootsamp[bootsamp['age'] != '<21']['height'].mean()\n",
    "    diffs_age.append(over21_mean - under21_mean)\n",
    "    \n",
    "np.percentile(diffs_age, 0.5), np.percentile(diffs_age, 99.5)"
   ]
  },
  {
   "cell_type": "code",
   "execution_count": 24,
   "id": "49c85c27",
   "metadata": {},
   "outputs": [
    {
     "data": {
      "text/plain": [
       "(-2.620755435266737, -1.0903808546391958)"
      ]
     },
     "execution_count": 24,
     "metadata": {},
     "output_type": "execute_result"
    }
   ],
   "source": [
    "diffs_coff_under21 = []\n",
    "for _ in range(10000):\n",
    "    bootsamp = sample_data.sample(200, replace=True)\n",
    "    under21_coff_mean = bootsamp.query(\"age== '<21' and drinks_coffee==True\")['height'].mean()\n",
    "    under21_nocoff_mean = bootsamp.query(\"age== '<21' and drinks_coffee==False\")['height'].mean()\n",
    "    diffs_coff_under21.append(under21_coff_mean - under21_nocoff_mean)\n",
    "np.percentile(diffs_coff_under21, 2.5), np.percentile(diffs_coff_under21, 97.5)"
   ]
  },
  {
   "cell_type": "code",
   "execution_count": 25,
   "id": "dbfae90b",
   "metadata": {},
   "outputs": [
    {
     "data": {
      "text/plain": [
       "(-4.388297696801759, -1.8286979057770791)"
      ]
     },
     "execution_count": 25,
     "metadata": {},
     "output_type": "execute_result"
    }
   ],
   "source": [
    "diffs_coff_over21 = []\n",
    "for _ in range(10000):\n",
    "    bootsamp = sample_data.sample(200, replace=True)\n",
    "    over21_coff_mean = bootsamp.query(\"age!= '<21' and drinks_coffee==True\")['height'].mean()\n",
    "    over21_nocoff_mean = bootsamp.query(\"age!= '<21' and drinks_coffee==False\")['height'].mean()\n",
    "    diffs_coff_over21.append(over21_coff_mean - over21_nocoff_mean)\n",
    "np.percentile(diffs_coff_over21, 2.5), np.percentile(diffs_coff_over21, 97.5)"
   ]
  },
  {
   "cell_type": "code",
   "execution_count": null,
   "id": "00ab6224",
   "metadata": {},
   "outputs": [],
   "source": []
  }
 ],
 "metadata": {
  "kernelspec": {
   "display_name": "Python 3",
   "language": "python",
   "name": "python3"
  },
  "language_info": {
   "codemirror_mode": {
    "name": "ipython",
    "version": 3
   },
   "file_extension": ".py",
   "mimetype": "text/x-python",
   "name": "python",
   "nbconvert_exporter": "python",
   "pygments_lexer": "ipython3",
   "version": "3.8.10"
  }
 },
 "nbformat": 4,
 "nbformat_minor": 5
}
