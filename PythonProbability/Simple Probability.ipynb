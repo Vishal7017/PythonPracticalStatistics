{
 "cells": [
  {
   "cell_type": "code",
   "execution_count": 1,
   "id": "7a416b4a",
   "metadata": {},
   "outputs": [],
   "source": [
    "import numpy as np"
   ]
  },
  {
   "cell_type": "code",
   "execution_count": 4,
   "id": "7b488be4",
   "metadata": {},
   "outputs": [
    {
     "data": {
      "text/plain": [
       "0.24928"
      ]
     },
     "execution_count": 4,
     "metadata": {},
     "output_type": "execute_result"
    }
   ],
   "source": [
    "tests = np.random.randint(2, size=(int(1e6), 2))\n",
    "test_sums = tests.sum(axis=1)\n",
    "(test_sums==0).mean()"
   ]
  },
  {
   "cell_type": "code",
   "execution_count": 5,
   "id": "63624c8f",
   "metadata": {},
   "outputs": [
    {
     "data": {
      "text/plain": [
       "0.375704"
      ]
     },
     "execution_count": 5,
     "metadata": {},
     "output_type": "execute_result"
    }
   ],
   "source": [
    "tests = np.random.randint(2, size=(int(1e6), 3))\n",
    "test_sums = tests.sum(axis=1)\n",
    "(test_sums==1).mean()"
   ]
  },
  {
   "cell_type": "code",
   "execution_count": 7,
   "id": "a67430d0",
   "metadata": {},
   "outputs": [
    {
     "data": {
      "text/plain": [
       "0.431961"
      ]
     },
     "execution_count": 7,
     "metadata": {},
     "output_type": "execute_result"
    }
   ],
   "source": [
    "tests = np.random.choice([0,1], size=(int(1e6), 3), p=[0.6,0.4])\n",
    "test_sums = tests.sum(axis=1)\n",
    "(test_sums==1).mean()"
   ]
  },
  {
   "cell_type": "code",
   "execution_count": 10,
   "id": "4c0694f5",
   "metadata": {},
   "outputs": [
    {
     "data": {
      "text/plain": [
       "0.499483"
      ]
     },
     "execution_count": 10,
     "metadata": {},
     "output_type": "execute_result"
    }
   ],
   "source": [
    "tests = np.random.choice(np.arange(1, 7), size=int(1e6))\n",
    "(tests % 2 ==0).mean()"
   ]
  },
  {
   "cell_type": "code",
   "execution_count": 11,
   "id": "7c77a505",
   "metadata": {},
   "outputs": [
    {
     "data": {
      "text/plain": [
       "0.167217"
      ]
     },
     "execution_count": 11,
     "metadata": {},
     "output_type": "execute_result"
    }
   ],
   "source": [
    "first = np.random.choice(np.arange(6), size=int(1e6))\n",
    "second = np.random.choice(np.arange(6), size=int(1e6))\n",
    "(first == second).mean()"
   ]
  },
  {
   "cell_type": "code",
   "execution_count": null,
   "id": "36ce2da5",
   "metadata": {},
   "outputs": [],
   "source": []
  }
 ],
 "metadata": {
  "kernelspec": {
   "display_name": "Python 3",
   "language": "python",
   "name": "python3"
  },
  "language_info": {
   "codemirror_mode": {
    "name": "ipython",
    "version": 3
   },
   "file_extension": ".py",
   "mimetype": "text/x-python",
   "name": "python",
   "nbconvert_exporter": "python",
   "pygments_lexer": "ipython3",
   "version": "3.8.10"
  }
 },
 "nbformat": 4,
 "nbformat_minor": 5
}
