{
 "cells": [
  {
   "cell_type": "code",
   "execution_count": 3,
   "id": "65913133",
   "metadata": {},
   "outputs": [
    {
     "data": {
      "text/plain": [
       "(array([1663.,  747.,  329.,  134.,   73.,   34.,   13.,    5.,    0.,\n",
       "           2.]),\n",
       " array([1.16348231e-03, 8.17255031e+01, 1.63449843e+02, 2.45174182e+02,\n",
       "        3.26898522e+02, 4.08622862e+02, 4.90347201e+02, 5.72071541e+02,\n",
       "        6.53795881e+02, 7.35520220e+02, 8.17244560e+02]),\n",
       " <BarContainer object of 10 artists>)"
      ]
     },
     "execution_count": 3,
     "metadata": {},
     "output_type": "execute_result"
    },
    {
     "data": {
      "image/png": "[encoded data removed]",
      "text/plain": [
       "<Figure size 432x288 with 1 Axes>"
      ]
     },
     "metadata": {
      "needs_background": "light"
     },
     "output_type": "display_data"
    }
   ],
   "source": [
    "import numpy as np\n",
    "import matplotlib.pyplot as plt\n",
    "\n",
    "np.random.seed(42)\n",
    "\n",
    "pop_data = np.random.gamma(1,100, 3000)\n",
    "plt.hist(pop_data)"
   ]
  },
  {
   "cell_type": "code",
   "execution_count": 4,
   "id": "71b17358",
   "metadata": {},
   "outputs": [
    {
     "data": {
      "text/plain": [
       "(3000,)"
      ]
     },
     "execution_count": 4,
     "metadata": {},
     "output_type": "execute_result"
    }
   ],
   "source": [
    "pop_data.shape"
   ]
  },
  {
   "cell_type": "code",
   "execution_count": 5,
   "id": "1a84e21d",
   "metadata": {},
   "outputs": [
    {
     "data": {
      "text/plain": [
       "100.35978700795846"
      ]
     },
     "execution_count": 5,
     "metadata": {},
     "output_type": "execute_result"
    }
   ],
   "source": [
    "pop_data.mean()"
   ]
  },
  {
   "cell_type": "code",
   "execution_count": 7,
   "id": "95bf7d6c",
   "metadata": {},
   "outputs": [
    {
     "data": {
      "text/plain": [
       "179.26530134867892"
      ]
     },
     "execution_count": 7,
     "metadata": {},
     "output_type": "execute_result"
    }
   ],
   "source": [
    "sample1 = np.random.choice(pop_data, 5, replace=True)\n",
    "sample1.mean()"
   ]
  },
  {
   "cell_type": "code",
   "execution_count": 8,
   "id": "abe1e8cf",
   "metadata": {},
   "outputs": [
    {
     "data": {
      "text/plain": [
       "143.10974179021264"
      ]
     },
     "execution_count": 8,
     "metadata": {},
     "output_type": "execute_result"
    }
   ],
   "source": [
    "sample2 = np.random.choice(pop_data, 20, replace=True)\n",
    "sample2.mean()"
   ]
  },
  {
   "cell_type": "code",
   "execution_count": 9,
   "id": "5fd074ce",
   "metadata": {},
   "outputs": [
    {
     "data": {
      "text/plain": [
       "117.0757073569392"
      ]
     },
     "execution_count": 9,
     "metadata": {},
     "output_type": "execute_result"
    }
   ],
   "source": [
    "sample3 = np.random.choice(pop_data, 100, replace=True)\n",
    "sample3.mean()"
   ]
  },
  {
   "cell_type": "code",
   "execution_count": null,
   "id": "844d8c12",
   "metadata": {},
   "outputs": [],
   "source": []
  }
 ],
 "metadata": {
  "kernelspec": {
   "display_name": "Python 3",
   "language": "python",
   "name": "python3"
  },
  "language_info": {
   "codemirror_mode": {
    "name": "ipython",
    "version": 3
   },
   "file_extension": ".py",
   "mimetype": "text/x-python",
   "name": "python",
   "nbconvert_exporter": "python",
   "pygments_lexer": "ipython3",
   "version": "3.8.10"
  }
 },
 "nbformat": 4,
 "nbformat_minor": 5
}
