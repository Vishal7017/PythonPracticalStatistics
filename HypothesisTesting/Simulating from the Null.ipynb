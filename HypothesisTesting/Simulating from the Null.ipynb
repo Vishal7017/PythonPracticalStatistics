{
 "cells": [
  {
   "cell_type": "code",
   "execution_count": 1,
   "id": "4d6327c3",
   "metadata": {},
   "outputs": [],
   "source": [
    "import pandas as pd\n",
    "import numpy as np\n",
    "import matplotlib.pyplot as plt\n",
    "\n",
    "np.random.seed(42)\n",
    "\n",
    "df = pd.read_csv('coffee_dataset.csv')\n"
   ]
  },
  {
   "cell_type": "code",
   "execution_count": 2,
   "id": "ae9a8969",
   "metadata": {},
   "outputs": [],
   "source": [
    "sample_df = df.sample(150)\n",
    "\n",
    "means = []\n",
    "for _ in range(10000):\n",
    "    bootsample = sample_df.sample(150, replace=True)\n",
    "    means.append(bootsample.height.mean())"
   ]
  },
  {
   "cell_type": "code",
   "execution_count": 3,
   "id": "5d17fed1",
   "metadata": {},
   "outputs": [
    {
     "data": {
      "text/plain": [
       "0.26580395144180324"
      ]
     },
     "execution_count": 3,
     "metadata": {},
     "output_type": "execute_result"
    }
   ],
   "source": [
    "np.std(means)"
   ]
  },
  {
   "cell_type": "code",
   "execution_count": 4,
   "id": "39268063",
   "metadata": {},
   "outputs": [],
   "source": [
    "null_vals = np.random.normal(70, np.std(means), 10000)"
   ]
  },
  {
   "cell_type": "code",
   "execution_count": 5,
   "id": "9444f6f3",
   "metadata": {},
   "outputs": [
    {
     "data": {
      "text/plain": [
       "(array([  10.,   75.,  505., 1570., 2882., 2849., 1567.,  447.,   89.,\n",
       "           6.]),\n",
       " array([68.95628683, 69.16544433, 69.37460182, 69.58375932, 69.79291682,\n",
       "        70.00207431, 70.21123181, 70.42038931, 70.6295468 , 70.8387043 ,\n",
       "        71.04786179]),\n",
       " <BarContainer object of 10 artists>)"
      ]
     },
     "execution_count": 5,
     "metadata": {},
     "output_type": "execute_result"
    },
    {
     "data": {
      "image/png": "[encoded data removed]",
      "text/plain": [
       "<Figure size 432x288 with 1 Axes>"
      ]
     },
     "metadata": {
      "needs_background": "light"
     },
     "output_type": "display_data"
    }
   ],
   "source": [
    "plt.hist(null_vals)"
   ]
  },
  {
   "cell_type": "code",
   "execution_count": 6,
   "id": "4b8c57a7",
   "metadata": {},
   "outputs": [
    {
     "data": {
      "text/plain": [
       "67.63297688228059"
      ]
     },
     "execution_count": 6,
     "metadata": {},
     "output_type": "execute_result"
    }
   ],
   "source": [
    "sample_df.height.mean()"
   ]
  },
  {
   "cell_type": "code",
   "execution_count": null,
   "id": "023795e4",
   "metadata": {},
   "outputs": [],
   "source": []
  }
 ],
 "metadata": {
  "kernelspec": {
   "display_name": "Python 3",
   "language": "python",
   "name": "python3"
  },
  "language_info": {
   "codemirror_mode": {
    "name": "ipython",
    "version": 3
   },
   "file_extension": ".py",
   "mimetype": "text/x-python",
   "name": "python",
   "nbconvert_exporter": "python",
   "pygments_lexer": "ipython3",
   "version": "3.8.10"
  }
 },
 "nbformat": 4,
 "nbformat_minor": 5
}
